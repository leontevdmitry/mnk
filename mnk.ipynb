{
  "nbformat": 4,
  "nbformat_minor": 0,
  "metadata": {
    "colab": {
      "name": "mnk.ipynb",
      "provenance": []
    },
    "kernelspec": {
      "name": "python3",
      "display_name": "Python 3"
    },
    "language_info": {
      "name": "python"
    }
  },
  "cells": [
    {
      "cell_type": "markdown",
      "source": [
        "this program is made for approximate a set of points using the least squares method (https://en.wikipedia.org/wiki/Least_squares)"
      ],
      "metadata": {
        "id": "eSUwF1iW4I9k"
      }
    },
    {
      "cell_type": "code",
      "execution_count": 13,
      "metadata": {
        "id": "ZH_0eDfI4FR_"
      },
      "outputs": [],
      "source": [
        "# your file with data should be in \"Files\""
      ]
    },
    {
      "cell_type": "code",
      "source": [
        "import pandas as pd\n",
        "import matplotlib.pyplot as plt"
      ],
      "metadata": {
        "id": "ZH-6IpMb4ozB"
      },
      "execution_count": 14,
      "outputs": []
    },
    {
      "cell_type": "code",
      "source": [
        "data = pd.read_excel(input(\"write file name: \"))"
      ],
      "metadata": {
        "colab": {
          "base_uri": "https://localhost:8080/"
        },
        "id": "d2kU3rGT4tR8",
        "outputId": "92b39409-7b81-46dd-b305-3f5bffeca34a"
      },
      "execution_count": 15,
      "outputs": [
        {
          "name": "stdout",
          "output_type": "stream",
          "text": [
            "write file name: data.xlsx\n"
          ]
        }
      ]
    },
    {
      "cell_type": "code",
      "source": [
        "print(\"your data:\")\n",
        "print(data)"
      ],
      "metadata": {
        "colab": {
          "base_uri": "https://localhost:8080/"
        },
        "id": "CaBSeIqS5FG1",
        "outputId": "ca4e4384-9632-4e9b-db6b-c2a5add0488f"
      },
      "execution_count": 16,
      "outputs": [
        {
          "output_type": "stream",
          "name": "stdout",
          "text": [
            "your data:\n",
            "    x   y\n",
            "0   3   7\n",
            "1   5  10\n",
            "2   7  15\n",
            "3   8  19\n",
            "4   9  23\n",
            "5  12  30\n",
            "6  42  78\n",
            "7  32  90\n"
          ]
        }
      ]
    },
    {
      "cell_type": "code",
      "source": [
        "# naming\n",
        "\n",
        "x = 'x'\n",
        "y = 'y'\n",
        "\n",
        "plot_name = input('\\nPlot name: ')\n",
        "abscissa_name = input('\\nx-axis name: ')\n",
        "ordinate_name = input('\\ny-axis name: ')"
      ],
      "metadata": {
        "colab": {
          "base_uri": "https://localhost:8080/"
        },
        "id": "lTEQ4rJ45wsh",
        "outputId": "fdf9d05c-4896-42b9-b153-a0fba8b4e48c"
      },
      "execution_count": 25,
      "outputs": [
        {
          "name": "stdout",
          "output_type": "stream",
          "text": [
            "\n",
            "Plot name: Plot\n",
            "\n",
            "x-axis name: x\n",
            "\n",
            "y-axis name: y\n"
          ]
        }
      ]
    },
    {
      "cell_type": "code",
      "source": [
        "# calculations\n",
        "\n",
        "sum_x = sum(data[x])\n",
        "sum_y = sum(data[y])\n",
        "sum_xy = sum(data[x]*data[y])\n",
        "sum_x2 = sum(data[x]**2)\n",
        "len_data = len(data)\n",
        "\n",
        "a = (len_data*sum_xy - sum_x*sum_y)/(len_data*sum_x2 - sum_x**2)\n",
        "b = (sum_y - a*sum_x)/len_data\n",
        "\n",
        "def sgn(x):\n",
        "        if x >= 0:\n",
        "            return '+'\n",
        "        else:\n",
        "            return '-'\n",
        "            \n",
        "result = '{:.5f}x {} {:.5f}'.format(a, sgn(b), b)"
      ],
      "metadata": {
        "id": "knMiNwIRpjZM"
      },
      "execution_count": 26,
      "outputs": []
    },
    {
      "cell_type": "code",
      "source": [
        "# plotting\n",
        "\n",
        "plt.scatter(data[x], data[y])\n",
        "plt.plot([0, max(data[x])], [b, a*max(data[x]) + b], 'b-')\n",
        "plt.title(plot_name)\n",
        "plt.ylabel(ordinate_name)\n",
        "plt.xlabel(abscissa_name)\n",
        "plt.grid(True)\n",
        "plt.show()\n",
        "\n",
        "print('approximating line: ', result)"
      ],
      "metadata": {
        "colab": {
          "base_uri": "https://localhost:8080/",
          "height": 313
        },
        "id": "gCbzmUIKp3oP",
        "outputId": "e1f640db-7dae-4dc3-f0ab-fefbe4f16f77"
      },
      "execution_count": 27,
      "outputs": [
        {
          "output_type": "display_data",
          "data": {
            "image/png": "[encoded data removed]",
            "text/plain": [
              "<Figure size 432x288 with 1 Axes>"
            ]
          },
          "metadata": {
            "needs_background": "light"
          }
        },
        {
          "output_type": "stream",
          "name": "stdout",
          "text": [
            "approximating line:  2.14089x + 2.42180\n"
          ]
        }
      ]
    }
  ]
}